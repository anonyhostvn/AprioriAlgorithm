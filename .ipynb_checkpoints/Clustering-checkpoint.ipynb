{
 "cells": [
  {
   "cell_type": "code",
   "execution_count": 25,
   "metadata": {},
   "outputs": [],
   "source": [
    "import numpy as np\n",
    "import matplotlib.pyplot as plt\n",
    "import sys"
   ]
  },
  {
   "cell_type": "markdown",
   "metadata": {},
   "source": [
    "# Đọc và tiền xử lý dữ liệu"
   ]
  },
  {
   "cell_type": "code",
   "execution_count": 2,
   "metadata": {},
   "outputs": [],
   "source": [
    "f = open(\"dataset1.txt\")\n",
    "dataset = []\n",
    "\n",
    "for line in f:\n",
    "    [x,y,cluster] = line.split()\n",
    "    dataset.append([float(x),float(y),int(cluster)])\n",
    "    \n",
    "f.close()"
   ]
  },
  {
   "cell_type": "code",
   "execution_count": 21,
   "metadata": {},
   "outputs": [
    {
     "data": {
      "image/png": "[encoded data removed]",
      "text/plain": [
       "<Figure size 432x288 with 1 Axes>"
      ]
     },
     "metadata": {
      "needs_background": "light"
     },
     "output_type": "display_data"
    }
   ],
   "source": [
    "X = []\n",
    "Y = []\n",
    "\n",
    "for item in dataset:\n",
    "    X.append(item[0])\n",
    "    Y.append(item[1])\n",
    "\n",
    "fig=plt.figure()\n",
    "ax=fig.add_axes([0,0,1,1])\n",
    "ax.scatter(X, Y, color='r', s=1)\n",
    "ax.set_xlabel('X')\n",
    "ax.set_ylabel('Y')\n",
    "ax.set_title('scatter plot')\n",
    "\n",
    "plt.show()"
   ]
  },
  {
   "cell_type": "code",
   "execution_count": 133,
   "metadata": {},
   "outputs": [],
   "source": [
    "color_mapping = {\n",
    "    0: 'b',\n",
    "    1: 'g',\n",
    "    2: 'r',\n",
    "    3: 'c',\n",
    "    4: 'm',\n",
    "    5: 'y',\n",
    "    6: 'k',\n",
    "}"
   ]
  },
  {
   "cell_type": "code",
   "execution_count": 138,
   "metadata": {},
   "outputs": [],
   "source": [
    "def plot_data(X, Y, list_kernel):\n",
    "    kX = [kernel[0] for kernel in list_kernel]\n",
    "    kY = [kernel[1] for kernel in list_kernel]\n",
    "    fig=plt.figure()\n",
    "    ax=fig.add_axes([0,0,1,1])\n",
    "    ax.scatter(X, Y, color='r', s=1)\n",
    "    ax.scatter(kX, kY, color='b', s=10)\n",
    "    ax.set_xlabel('X')\n",
    "    ax.set_ylabel('Y')\n",
    "    ax.set_title('scatter plot')\n",
    "    \n",
    "    plt.show()"
   ]
  },
  {
   "cell_type": "markdown",
   "metadata": {},
   "source": [
    "# Các thuật toán phân cụm"
   ]
  },
  {
   "cell_type": "markdown",
   "metadata": {},
   "source": [
    "## K-mean Clustering"
   ]
  },
  {
   "cell_type": "code",
   "execution_count": 32,
   "metadata": {},
   "outputs": [
    {
     "name": "stdout",
     "output_type": "stream",
     "text": [
      "(36.55, 3.35, 29.15, 1.95)\n"
     ]
    }
   ],
   "source": [
    "oo = 1000000000\n",
    "\n",
    "def find_x_y_max_min(X,Y):\n",
    "    x_max = float(0)\n",
    "    y_max = float(0)\n",
    "    x_min = float(oo)\n",
    "    y_min = float(oo)\n",
    "    \n",
    "    for x in X:\n",
    "        x_max = max(x_max, x)\n",
    "        x_min = min(x_min, x)\n",
    "        \n",
    "    for y  in Y:\n",
    "        y_max = max(y_max, y)\n",
    "        y_min = min(y_min, y)\n",
    "        \n",
    "    return x_max, x_min, y_max, y_min\n",
    "    \n",
    "print( find_x_y_max_min(X,Y) )"
   ]
  },
  {
   "cell_type": "code",
   "execution_count": 47,
   "metadata": {},
   "outputs": [
    {
     "data": {
      "text/plain": [
       "[[36.204664144018246, 3.995657089270268],\n",
       " [5.151942177005514, 17.10730819172589],\n",
       " [30.708954619023352, 24.03646214406129]]"
      ]
     },
     "execution_count": 47,
     "metadata": {},
     "output_type": "execute_result"
    }
   ],
   "source": [
    "def random_kernel(X, Y, num_kernel):\n",
    "    x_max, x_min, y_max, y_min = find_x_y_max_min(X,Y)\n",
    "    x_rand_norm = np.random.random(size = num_kernel)\n",
    "    y_rand_norm = np.random.random(size = num_kernel)\n",
    "    res = []\n",
    "    for i in range(num_kernel):\n",
    "        res.append([x_min + x_rand_norm[i] * (x_max - x_min) , y_min + y_rand_norm[i] * (y_max - y_min)])\n",
    "    return res\n",
    "\n",
    "random_kernel(X, Y, 3)"
   ]
  },
  {
   "cell_type": "code",
   "execution_count": 39,
   "metadata": {},
   "outputs": [
    {
     "data": {
      "text/plain": [
       "1.4142135623730951"
      ]
     },
     "execution_count": 39,
     "metadata": {},
     "output_type": "execute_result"
    }
   ],
   "source": [
    "# Tính khoảng cách Euclid\n",
    "def distance_caculate(A, B):\n",
    "    n = len(A)\n",
    "    res = 0\n",
    "    for i in range(n):\n",
    "        res += (A[i] - B[i]) * (A[i] - B[i])\n",
    "    res = np.sqrt(res)\n",
    "    return res\n",
    "\n",
    "distance_caculate([1,1], [2,2])"
   ]
  },
  {
   "cell_type": "code",
   "execution_count": 50,
   "metadata": {},
   "outputs": [],
   "source": [
    "def clustering(X, Y, list_kernel):\n",
    "    n = len(X)\n",
    "    k = len(list_kernel)\n",
    "    label = []\n",
    "    for i in range(n):\n",
    "        min_distance = float(oo)\n",
    "        recent_label = -1\n",
    "        for j in range(k):\n",
    "            d = distance_caculate([X[i], Y[i]], list_kernel[j])\n",
    "            if d < min_distance:\n",
    "                min_distance = d\n",
    "                recent_label = j\n",
    "        label.append(recent_label)\n",
    "    return label"
   ]
  },
  {
   "cell_type": "code",
   "execution_count": 92,
   "metadata": {},
   "outputs": [],
   "source": [
    "def relocate_kernel(label, X, Y, num_kernel):\n",
    "    n = len(X)\n",
    "    list_point = [[] for i in range(num_kernel)]\n",
    "    \n",
    "    for i in range(n):\n",
    "        list_point[label[i]].append([X[i], Y[i]])\n",
    "        \n",
    "    res = []\n",
    "    for i in range(num_kernel):\n",
    "        new_kernel = np.average(list_point[i], axis=0)\n",
    "        res.append(list(new_kernel))\n",
    "    return res"
   ]
  },
  {
   "cell_type": "code",
   "execution_count": 99,
   "metadata": {},
   "outputs": [],
   "source": [
    "def diff_between_kernel(old_kernel, new_kernel, num_kernel):\n",
    "    return np.average([distance_caculate(old_kernel[i], new_kernel[i]) for i in range(num_kernel)])"
   ]
  },
  {
   "cell_type": "code",
   "execution_count": 65,
   "metadata": {},
   "outputs": [
    {
     "name": "stdout",
     "output_type": "stream",
     "text": [
      "[1.25 2.  ]\n"
     ]
    }
   ],
   "source": [
    "a = [\n",
    "    [1,2],\n",
    "    [2,4],\n",
    "    [1,1],\n",
    "    [1,1]\n",
    "]\n",
    "print(np.average(a, axis=0))"
   ]
  },
  {
   "cell_type": "code",
   "execution_count": 139,
   "metadata": {},
   "outputs": [
    {
     "data": {
      "image/png": "[encoded data removed]",
      "text/plain": [
       "<Figure size 432x288 with 1 Axes>"
      ]
     },
     "metadata": {
      "needs_background": "light"
     },
     "output_type": "display_data"
    }
   ],
   "source": [
    "esp = 0.01\n",
    "\n",
    "def kmean_clustering(X, Y, num_kernel):\n",
    "    recent_kernel = random_kernel(X, Y, num_kernel)\n",
    "    \n",
    "    while True:\n",
    "        label = clustering(X,Y,recent_kernel)\n",
    "        new_kernel = relocate_kernel(label, X, Y, num_kernel)\n",
    "        if diff_between_kernel(recent_kernel, new_kernel, num_kernel) <= esp:\n",
    "            return recent_kernel\n",
    "        else:\n",
    "            recent_kernel = new_kernel\n",
    "\n",
    "list_kernel = kmean_clustering(X,Y, 7)\n",
    "\n",
    "plot_data(X, Y, list_kernel)"
   ]
  }
 ],
 "metadata": {
  "kernelspec": {
   "display_name": "Python 3",
   "language": "python",
   "name": "python3"
  },
  "language_info": {
   "codemirror_mode": {
    "name": "ipython",
    "version": 3
   },
   "file_extension": ".py",
   "mimetype": "text/x-python",
   "name": "python",
   "nbconvert_exporter": "python",
   "pygments_lexer": "ipython3",
   "version": "3.8.5"
  }
 },
 "nbformat": 4,
 "nbformat_minor": 4
}
